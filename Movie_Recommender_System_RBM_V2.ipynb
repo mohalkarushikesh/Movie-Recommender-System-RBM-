{
  "nbformat": 4,
  "nbformat_minor": 0,
  "metadata": {
    "colab": {
      "provenance": []
    },
    "kernelspec": {
      "name": "python3",
      "display_name": "Python 3"
    },
    "language_info": {
      "name": "python"
    }
  },
  "cells": [
    {
      "cell_type": "markdown",
      "source": [
        "# MOVIE RECOMMENDER SYSTEM USING RESTRICTED BOLTZMANN MACHINES (RBM)\n",
        "\n",
        "This notebook implements a movie recommendation system using Restricted Boltzmann Machines (RBM).\n",
        "RBMs are generative stochastic neural networks that can learn probability distributions over their inputs.\n",
        "\n",
        "Key Concepts:\n",
        "- RBM learns latent factors from user-movie interactions\n",
        "- Uses Contrastive Divergence for training\n",
        "- Converts explicit ratings to binary implicit feedback\n",
        "- Can handle missing data (unrated movies)\n",
        "\n",
        "Dataset: MovieLens 100K and 1M datasets"
      ],
      "metadata": {
        "id": "2RjMDvo_khGM"
      }
    },
    {
      "cell_type": "markdown",
      "source": [
        "# STEP 1: IMPORTING NECESSARY LIBRARIES"
      ],
      "metadata": {
        "id": "BiVYjPBTxYm7"
      }
    },
    {
      "cell_type": "code",
      "source": [
        "# Data manipulation and downloading\n",
        "import pandas as pd\n",
        "import zipfile\n",
        "import urllib.request\n",
        "\n",
        "# Numerical operations and deep learning\n",
        "import numpy as np\n",
        "import torch\n",
        "import torch.nn as nn\n",
        "import torch.nn.parallel\n",
        "import torch.optim as optim\n",
        "import torch.utils.data\n",
        "from torch.autograd import Variable"
      ],
      "metadata": {
        "id": "JjMyuFbVkd-Y"
      },
      "execution_count": 1,
      "outputs": []
    },
    {
      "cell_type": "markdown",
      "source": [
        "# STEP 2: DOWNLOADING THE DATASETS"
      ],
      "metadata": {
        "id": "K-LWDNmxxdbI"
      }
    },
    {
      "cell_type": "code",
      "source": [
        "# Download MovieLens 100K dataset\n",
        "url_100k = \"https://files.grouplens.org/datasets/movielens/ml-100k.zip\"\n",
        "urllib.request.urlretrieve(url_100k, \"ml-100k.zip\")\n",
        "\n",
        "# Download MovieLens 1M dataset\n",
        "url_1m = \"https://files.grouplens.org/datasets/movielens/ml-1m.zip\"\n",
        "urllib.request.urlretrieve(url_1m, \"ml-1m.zip\")\n",
        "\n",
        "# Extract the datasets\n",
        "with zipfile.ZipFile(\"ml-100k.zip\", 'r') as zip_ref:\n",
        "    zip_ref.extractall(\"ml-100k\")\n",
        "\n",
        "with zipfile.ZipFile(\"ml-1m.zip\", 'r') as zip_ref:\n",
        "    zip_ref.extractall(\"ml-1m\")"
      ],
      "metadata": {
        "id": "oGUg6OTdwoQY"
      },
      "execution_count": 2,
      "outputs": []
    },
    {
      "cell_type": "markdown",
      "source": [
        "# STEP 3: LOADING AND EXPLORING THE DATA"
      ],
      "metadata": {
        "id": "XND4yqv-xbYo"
      }
    },
    {
      "cell_type": "code",
      "source": [
        "# Load movies data\n",
        "movies = pd.read_csv('ml-1m/ml-1m/movies.dat', sep='::', header=None,\n",
        "                     engine='python', encoding='latin-1')\n",
        "print(f\"✅ Movies data loaded: {movies.shape[0]} movies, {movies.shape[1]} columns\")\n",
        "\n",
        "# Display movie data structure\n",
        "print(\"\\n📽️ Movie Data Structure:\")\n",
        "print(\"Column 0: Movie ID\")\n",
        "print(\"Column 1: Movie Title\")\n",
        "print(\"Column 2: Movie Genre\")\n",
        "print(f\"\\nSample movies:\")\n",
        "print(movies.head())"
      ],
      "metadata": {
        "colab": {
          "base_uri": "https://localhost:8080/"
        },
        "id": "I2A8aynGwqeh",
        "outputId": "458e2991-7545-44c8-91d5-e660448f49cd"
      },
      "execution_count": 3,
      "outputs": [
        {
          "output_type": "stream",
          "name": "stdout",
          "text": [
            "✅ Movies data loaded: 3883 movies, 3 columns\n",
            "\n",
            "📽️ Movie Data Structure:\n",
            "Column 0: Movie ID\n",
            "Column 1: Movie Title\n",
            "Column 2: Movie Genre\n",
            "\n",
            "Sample movies:\n",
            "   0                                   1                             2\n",
            "0  1                    Toy Story (1995)   Animation|Children's|Comedy\n",
            "1  2                      Jumanji (1995)  Adventure|Children's|Fantasy\n",
            "2  3             Grumpier Old Men (1995)                Comedy|Romance\n",
            "3  4            Waiting to Exhale (1995)                  Comedy|Drama\n",
            "4  5  Father of the Bride Part II (1995)                        Comedy\n"
          ]
        }
      ]
    },
    {
      "cell_type": "code",
      "source": [
        "users = pd.read_csv('ml-1m/ml-1m/users.dat', sep='::', header=None,\n",
        "                    engine='python', encoding='latin-1')\n",
        "print(f\"✅ Users data loaded: {users.shape[0]} users, {users.shape[1]} columns\")\n",
        "\n",
        "# Display user data structure\n",
        "print(\"\\n👤 User Data Structure:\")\n",
        "print(\"Column 0: User ID\")\n",
        "print(\"Column 1: Gender (M/F)\")\n",
        "print(\"Column 2: Age Group\")\n",
        "print(\"Column 3: Occupation Code\")\n",
        "print(\"Column 4: Zip Code\")\n",
        "print(f\"\\nSample users:\")\n",
        "print(users.head())"
      ],
      "metadata": {
        "colab": {
          "base_uri": "https://localhost:8080/"
        },
        "id": "bOgCvbUGyTDQ",
        "outputId": "dfd90453-6d70-4e34-e273-008bee580600"
      },
      "execution_count": 4,
      "outputs": [
        {
          "output_type": "stream",
          "name": "stdout",
          "text": [
            "✅ Users data loaded: 6040 users, 5 columns\n",
            "\n",
            "👤 User Data Structure:\n",
            "Column 0: User ID\n",
            "Column 1: Gender (M/F)\n",
            "Column 2: Age Group\n",
            "Column 3: Occupation Code\n",
            "Column 4: Zip Code\n",
            "\n",
            "Sample users:\n",
            "   0  1   2   3      4\n",
            "0  1  F   1  10  48067\n",
            "1  2  M  56  16  70072\n",
            "2  3  M  25  15  55117\n",
            "3  4  M  45   7  02460\n",
            "4  5  M  25  20  55455\n"
          ]
        }
      ]
    },
    {
      "cell_type": "code",
      "source": [
        "# Load ratings data\n",
        "ratings = pd.read_csv('ml-1m/ml-1m/ratings.dat', sep='::', header=None,\n",
        "                      engine='python', encoding='latin-1')\n",
        "print(f\"✅ Ratings data loaded: {ratings.shape[0]} ratings, {ratings.shape[1]} columns\")\n",
        "\n",
        "# Display ratings data structure\n",
        "print(\"\\n⭐ Ratings Data Structure:\")\n",
        "print(\"Column 0: User ID\")\n",
        "print(\"Column 1: Movie ID\")\n",
        "print(\"Column 2: Rating (1-5)\")\n",
        "print(\"Column 3: Timestamp\")\n",
        "print(f\"\\nSample ratings:\")\n",
        "print(ratings.head())"
      ],
      "metadata": {
        "colab": {
          "base_uri": "https://localhost:8080/"
        },
        "id": "qLO1lyBXyWjn",
        "outputId": "7d9b0fe2-c962-4192-e874-ddb20d1f76d0"
      },
      "execution_count": 5,
      "outputs": [
        {
          "output_type": "stream",
          "name": "stdout",
          "text": [
            "✅ Ratings data loaded: 1000209 ratings, 4 columns\n",
            "\n",
            "⭐ Ratings Data Structure:\n",
            "Column 0: User ID\n",
            "Column 1: Movie ID\n",
            "Column 2: Rating (1-5)\n",
            "Column 3: Timestamp\n",
            "\n",
            "Sample ratings:\n",
            "   0     1  2          3\n",
            "0  1  1193  5  978300760\n",
            "1  1   661  3  978302109\n",
            "2  1   914  3  978301968\n",
            "3  1  3408  4  978300275\n",
            "4  1  2355  5  978824291\n"
          ]
        }
      ]
    },
    {
      "cell_type": "code",
      "source": [
        "# Dataset statistics\n",
        "print(f\"\\n📈 Dataset Statistics:\")\n",
        "print(f\"Total movies: {movies.shape[0]}\")\n",
        "print(f\"Total users: {users.shape[0]}\")\n",
        "print(f\"Total ratings: {ratings.shape[0]:,}\")\n",
        "print(f\"Average ratings per user: {ratings.shape[0]/users.shape[0]:.1f}\")\n",
        "print(f\"Average ratings per movie: {ratings.shape[0]/movies.shape[0]:.1f}\")"
      ],
      "metadata": {
        "colab": {
          "base_uri": "https://localhost:8080/"
        },
        "id": "ZGPCdfRvybKZ",
        "outputId": "c99bd81f-f886-4a5a-f0dc-ad8e000b8d2c"
      },
      "execution_count": 6,
      "outputs": [
        {
          "output_type": "stream",
          "name": "stdout",
          "text": [
            "\n",
            "📈 Dataset Statistics:\n",
            "Total movies: 3883\n",
            "Total users: 6040\n",
            "Total ratings: 1,000,209\n",
            "Average ratings per user: 165.6\n",
            "Average ratings per movie: 257.6\n"
          ]
        }
      ]
    },
    {
      "cell_type": "code",
      "source": [
        "# Example: Find movie by ID\n",
        "movie_id = 238\n",
        "movie_name = movies[movies[0] == movie_id][1].iloc[0]\n",
        "print(f\"\\n🎬 Example: Movie ID {movie_id} is '{movie_name}'\")"
      ],
      "metadata": {
        "colab": {
          "base_uri": "https://localhost:8080/"
        },
        "id": "aiu27Xljyc-H",
        "outputId": "df585000-e796-4709-dfdd-a47d53e8ba69"
      },
      "execution_count": 7,
      "outputs": [
        {
          "output_type": "stream",
          "name": "stdout",
          "text": [
            "\n",
            "🎬 Example: Movie ID 238 is 'Far From Home: The Adventures of Yellow Dog (1995)'\n"
          ]
        }
      ]
    },
    {
      "cell_type": "markdown",
      "source": [
        "# STEP 4: PREPARING TRAINING AND TEST SETS"
      ],
      "metadata": {
        "id": "HEAeV8UWxg95"
      }
    },
    {
      "cell_type": "code",
      "source": [
        "# Load training and test sets\n",
        "training_set = pd.read_csv('ml-100k/ml-100k/u1.base', delimiter='\\t')\n",
        "training_set = np.array(training_set, dtype='int')\n",
        "print(f\"✅ Training set loaded: {training_set.shape[0]:,} ratings\")\n",
        "\n",
        "test_set = pd.read_csv('ml-100k/ml-100k/u1.test', delimiter='\\t')\n",
        "test_set = np.array(test_set, dtype='int')\n",
        "print(f\"✅ Test set loaded: {test_set.shape[0]:,} ratings\")\n",
        "\n",
        "print(f\"Training set: {training_set.shape[0]:,} ratings ({training_set.shape[0]/(training_set.shape[0]+test_set.shape[0])*100:.1f}%)\")\n",
        "print(f\"Test set: {test_set.shape[0]:,} ratings ({test_set.shape[0]/(training_set.shape[0]+test_set.shape[0])*100:.1f}%)\")"
      ],
      "metadata": {
        "colab": {
          "base_uri": "https://localhost:8080/"
        },
        "id": "0CjgJ38Xw2Iy",
        "outputId": "734b0051-e67b-4db2-ff80-140278c5e281"
      },
      "execution_count": 8,
      "outputs": [
        {
          "output_type": "stream",
          "name": "stdout",
          "text": [
            "✅ Training set loaded: 79,999 ratings\n",
            "✅ Test set loaded: 19,999 ratings\n",
            "Training set: 79,999 ratings (80.0%)\n",
            "Test set: 19,999 ratings (20.0%)\n"
          ]
        }
      ]
    },
    {
      "cell_type": "code",
      "source": [
        "# Determine number of users and movies\n",
        "nb_users = int(max(max(training_set[:, 0]), max(test_set[:, 0])))\n",
        "nb_movies = int(max(max(training_set[:, 1]), max(test_set[:, 1])))\n",
        "\n",
        "print(f\"\\n👥 Dataset Dimensions:\")\n",
        "print(f\"Total unique users: {nb_users}\")\n",
        "print(f\"Total unique movies: {nb_movies}\")"
      ],
      "metadata": {
        "colab": {
          "base_uri": "https://localhost:8080/"
        },
        "id": "CRsHWcf5yt3U",
        "outputId": "7e078961-255c-4a6f-9967-b099634ff584"
      },
      "execution_count": 9,
      "outputs": [
        {
          "output_type": "stream",
          "name": "stdout",
          "text": [
            "\n",
            "👥 Dataset Dimensions:\n",
            "Total unique users: 943\n",
            "Total unique movies: 1682\n"
          ]
        }
      ]
    },
    {
      "cell_type": "markdown",
      "source": [
        "# STEP 5: DATA PREPROCESSING\n"
      ],
      "metadata": {
        "id": "LOPi8HLdw5sh"
      }
    },
    {
      "cell_type": "code",
      "source": [
        "def convert(data):\n",
        "    \"\"\"\n",
        "    Convert rating data to user-movie matrix format.\n",
        "    Each row represents a user, each column represents a movie.\n",
        "    Values are ratings (0 for unrated movies).\n",
        "    \"\"\"\n",
        "    new_data = []\n",
        "    for id_users in range(1, nb_users + 1):\n",
        "        # Get movies and ratings for current user\n",
        "        id_movies = data[:, 1][data[:, 0] == id_users]\n",
        "        id_ratings = data[:, 2][data[:, 0] == id_users]\n",
        "\n",
        "        # Create ratings vector for all movies (0 for unrated)\n",
        "        ratings = np.zeros(nb_movies)\n",
        "        ratings[id_movies - 1] = id_ratings  # -1 because movie IDs start from 1\n",
        "\n",
        "        new_data.append(list(ratings))\n",
        "    return new_data\n",
        "\n",
        "# Convert datasets\n",
        "training_set = convert(training_set)\n",
        "test_set = convert(test_set)\n",
        "\n",
        "# Convert to PyTorch tensors\n",
        "training_set = torch.FloatTensor(training_set)\n",
        "test_set = torch.FloatTensor(test_set)\n",
        "\n",
        "print(f\"Training set shape: {training_set.shape}\")\n",
        "print(f\"Test set shape: {test_set.shape}\")"
      ],
      "metadata": {
        "colab": {
          "base_uri": "https://localhost:8080/"
        },
        "id": "6FHTLsBuw7Ig",
        "outputId": "d34fb4fd-89a0-4c80-ace7-54993a1d64ed"
      },
      "execution_count": 10,
      "outputs": [
        {
          "output_type": "stream",
          "name": "stdout",
          "text": [
            "Training set shape: torch.Size([943, 1682])\n",
            "Test set shape: torch.Size([943, 1682])\n"
          ]
        }
      ]
    },
    {
      "cell_type": "markdown",
      "source": [
        "# STEP 6: RATING CONVERSION TO BINARY FEEDBACK"
      ],
      "metadata": {
        "id": "nBzTLzHexB2R"
      }
    },
    {
      "cell_type": "code",
      "source": [
        "# Converting explicit ratings 1-5 to binary implicit feedback 1 or 0\n",
        "\n",
        "# Convert training set\n",
        "training_set[training_set == 0] = -1  # Unrated movies\n",
        "training_set[training_set == 1] = 0   # Not liked\n",
        "training_set[training_set == 2] = 0   # Not liked\n",
        "training_set[training_set >= 3] = 1   # Liked\n",
        "\n",
        "# Convert test set\n",
        "test_set[test_set == 0] = -1  # Unrated movies\n",
        "test_set[test_set == 1] = 0   # Not liked\n",
        "test_set[test_set == 2] = 0   # Not liked\n",
        "test_set[test_set >= 3] = 1   # Liked\n",
        "\n",
        "print(\"✅ Rating conversion: \")\n",
        "print(f\"Training set - Liked movies: {(training_set == 1).sum().item():,}\")\n",
        "print(f\"Training set - Not liked: {(training_set == 0).sum().item():,}\")\n",
        "print(f\"Training set - Unrated: {(training_set == -1).sum().item():,}\")"
      ],
      "metadata": {
        "colab": {
          "base_uri": "https://localhost:8080/"
        },
        "id": "R4WcZUXIxDTx",
        "outputId": "7e6b25ca-6eb8-43b5-d5dc-fc3a4954890d"
      },
      "execution_count": 11,
      "outputs": [
        {
          "output_type": "stream",
          "name": "stdout",
          "text": [
            "✅ Rating conversion: \n",
            "Training set - Liked movies: 66,102\n",
            "Training set - Not liked: 13,897\n",
            "Training set - Unrated: 1,506,127\n"
          ]
        }
      ]
    },
    {
      "cell_type": "markdown",
      "source": [
        "# STEP 7: RBM ARCHITECTURE IMPLEMENTATION"
      ],
      "metadata": {
        "id": "wQi7Fg6hxF6C"
      }
    },
    {
      "cell_type": "code",
      "source": [
        "class RBM():\n",
        "    \"\"\"\n",
        "    Restricted Boltzmann Machine for collaborative filtering.\n",
        "\n",
        "    Architecture:\n",
        "    - Visible layer: Movies (input/output)\n",
        "    - Hidden layer: Latent factors (learned features)\n",
        "    - No connections within the same layer (restricted)\n",
        "    \"\"\"\n",
        "\n",
        "    def __init__(self, nv, nh):\n",
        "        \"\"\"\n",
        "        Initialize RBM with visible and hidden units.\n",
        "\n",
        "        Args:\n",
        "            nv (int): Number of visible units (movies)\n",
        "            nh (int): Number of hidden units (latent factors)\n",
        "        \"\"\"\n",
        "        # Initialize weights and biases with random values\n",
        "        self.W = torch.randn(nh, nv)  # Weights between visible and hidden\n",
        "        self.a = torch.randn(1, nh)   # Bias for hidden units\n",
        "        self.b = torch.randn(1, nv)   # Bias for visible units\n",
        "\n",
        "        print(f\"✅ RBM initialized with {nv} visible units and {nh} hidden units\")\n",
        "\n",
        "    def sample_h(self, x):\n",
        "        \"\"\"\n",
        "        Sample hidden units given visible units (forward pass).\n",
        "\n",
        "        Args:\n",
        "            x: Visible units (user ratings)\n",
        "\n",
        "        Returns:\n",
        "            tuple: (probabilities, sampled states)\n",
        "        \"\"\"\n",
        "        wx = torch.mm(x, self.W.t())  # Weighted sum\n",
        "        activation = wx + self.a.expand_as(wx)  # Add bias\n",
        "        p_h_given_v = torch.sigmoid(activation)  # Probability\n",
        "        return p_h_given_v, torch.bernoulli(p_h_given_v)  # Sample\n",
        "\n",
        "    def sample_v(self, y):\n",
        "        \"\"\"\n",
        "        Sample visible units given hidden units (backward pass).\n",
        "\n",
        "        Args:\n",
        "            y: Hidden units (latent factors)\n",
        "\n",
        "        Returns:\n",
        "            tuple: (probabilities, sampled states)\n",
        "        \"\"\"\n",
        "        wy = torch.mm(y, self.W)  # Weighted sum\n",
        "        activation = wy + self.b.expand_as(wy)  # Add bias\n",
        "        p_v_given_h = torch.sigmoid(activation)  # Probability\n",
        "        return p_v_given_h, torch.bernoulli(p_v_given_h)  # Sample\n",
        "\n",
        "    def train(self, v0, vk, ph0, phk):\n",
        "        \"\"\"\n",
        "        Update RBM parameters using Contrastive Divergence.\n",
        "\n",
        "        Args:\n",
        "            v0: Original visible states\n",
        "            vk: Reconstructed visible states\n",
        "            ph0: Hidden probabilities given v0\n",
        "            phk: Hidden probabilities given vk\n",
        "        \"\"\"\n",
        "        # Update weights\n",
        "        self.W += (torch.mm(v0.t(), ph0) - torch.mm(vk.t(), phk)).t()\n",
        "        # Update biases\n",
        "        self.b += torch.sum((v0 - vk), 0)\n",
        "        self.a += torch.sum((ph0 - phk), 0)\n",
        "\n",
        "# Initialize RBM\n",
        "nv = len(training_set[0])  # Number of visible units (movies)\n",
        "nh = 100                   # Number of hidden units (latent factors)\n",
        "batch_size = 100           # Batch size for training\n",
        "\n",
        "print(f\"\\n🔧 RBM Configuration:\")\n",
        "print(f\"Visible units (movies): {nv}\")\n",
        "print(f\"Hidden units (latent factors): {nh}\")\n",
        "print(f\"Batch size: {batch_size}\")\n",
        "\n",
        "rbm = RBM(nv, nh)"
      ],
      "metadata": {
        "colab": {
          "base_uri": "https://localhost:8080/"
        },
        "id": "3jO6XZQMxJH0",
        "outputId": "784fffc7-ec00-4546-c7e0-bc6d4ae8bb77"
      },
      "execution_count": 12,
      "outputs": [
        {
          "output_type": "stream",
          "name": "stdout",
          "text": [
            "\n",
            "🔧 RBM Configuration:\n",
            "Visible units (movies): 1682\n",
            "Hidden units (latent factors): 100\n",
            "Batch size: 100\n",
            "✅ RBM initialized with 1682 visible units and 100 hidden units\n"
          ]
        }
      ]
    },
    {
      "cell_type": "markdown",
      "source": [
        "# STEP 8: TRAINING THE RBM"
      ],
      "metadata": {
        "id": "BjrJc1sExMeq"
      }
    },
    {
      "cell_type": "code",
      "source": [
        "# Training method: Contrastive Divergence (CD-k)\n",
        "# Number of Gibbs sampling steps: 10\n",
        "\n",
        "nb_epoch = 10\n",
        "print(f\"Number of epochs: {nb_epoch}\")\n",
        "\n",
        "print(\"\\n📈 Training Progress:\")\n",
        "for epoch in range(1, nb_epoch + 1):\n",
        "    train_loss = 0\n",
        "    s = 0.\n",
        "\n",
        "    # Process data in batches\n",
        "    for id_user in range(0, nb_users - batch_size, batch_size):\n",
        "        # Get batch of users\n",
        "        vk = training_set[id_user:id_user + batch_size]\n",
        "        v0 = training_set[id_user:id_user + batch_size]\n",
        "\n",
        "        # Positive phase: sample hidden units given visible\n",
        "        ph0, _ = rbm.sample_h(v0)\n",
        "\n",
        "        # Gibbs sampling (Contrastive Divergence)\n",
        "        for k in range(10):\n",
        "            _, hk = rbm.sample_h(vk)\n",
        "            _, vk = rbm.sample_v(hk)\n",
        "            # Keep original ratings for rated movies\n",
        "            vk[v0 < 0] = v0[v0 < 0]\n",
        "\n",
        "        # Negative phase: sample hidden units given reconstructed visible\n",
        "        phk, _ = rbm.sample_h(vk)\n",
        "\n",
        "        # Update RBM parameters\n",
        "        rbm.train(v0, vk, ph0, phk)\n",
        "\n",
        "        # Calculate loss (only for rated movies)\n",
        "        train_loss += torch.mean(torch.abs(v0[v0 >= 0] - vk[v0 >= 0]))\n",
        "        s += 1.\n",
        "\n",
        "    avg_loss = train_loss / s\n",
        "    print(f\"Epoch {epoch:2d}/{nb_epoch}: Loss = {avg_loss:.4f}\")"
      ],
      "metadata": {
        "colab": {
          "base_uri": "https://localhost:8080/"
        },
        "id": "sfqyk905xOGn",
        "outputId": "448bb674-5e22-4ea6-92c8-dd402155cb8f"
      },
      "execution_count": 13,
      "outputs": [
        {
          "output_type": "stream",
          "name": "stdout",
          "text": [
            "Number of epochs: 10\n",
            "\n",
            "📈 Training Progress:\n",
            "Epoch  1/10: Loss = 0.3457\n",
            "Epoch  2/10: Loss = 0.2147\n",
            "Epoch  3/10: Loss = 0.2447\n",
            "Epoch  4/10: Loss = 0.2506\n",
            "Epoch  5/10: Loss = 0.2482\n",
            "Epoch  6/10: Loss = 0.2470\n",
            "Epoch  7/10: Loss = 0.2494\n",
            "Epoch  8/10: Loss = 0.2468\n",
            "Epoch  9/10: Loss = 0.2486\n",
            "Epoch 10/10: Loss = 0.2470\n"
          ]
        }
      ]
    },
    {
      "cell_type": "markdown",
      "source": [
        "# STEP 9: EVALUATING THE RBM MODEL"
      ],
      "metadata": {
        "id": "Zno4EWU-xQLn"
      }
    },
    {
      "cell_type": "code",
      "source": [
        "# Evaluating RBM model on test set\n",
        "# Evaluation metric: Mean Absolute Error (MAE)\n",
        "\n",
        "test_loss = 0\n",
        "s = 0.\n",
        "\n",
        "# Evaluate on each user\n",
        "for id_user in range(nb_users):\n",
        "    v = training_set[id_user:id_user+1]   # User's training data\n",
        "    vt = test_set[id_user:id_user+1]      # User's test data\n",
        "\n",
        "    # Only evaluate if user has test ratings\n",
        "    if len(vt[vt >= 0]) > 0:\n",
        "        # Generate predictions\n",
        "        _, h = rbm.sample_h(v)\n",
        "        _, v = rbm.sample_v(h)\n",
        "\n",
        "        # Calculate MAE for rated movies\n",
        "        test_loss += torch.mean(torch.abs(vt[vt >= 0] - v[vt >= 0]))\n",
        "        s += 1.\n",
        "\n",
        "avg_test_loss = test_loss / s\n",
        "print(f\"✅ Test MAE: {avg_test_loss:.4f}\")"
      ],
      "metadata": {
        "colab": {
          "base_uri": "https://localhost:8080/"
        },
        "id": "Rr_VpUMzxRfJ",
        "outputId": "f7657af1-341c-4a00-de93-e4f900b58ae3"
      },
      "execution_count": 14,
      "outputs": [
        {
          "output_type": "stream",
          "name": "stdout",
          "text": [
            "✅ Test MAE: 0.2544\n"
          ]
        }
      ]
    },
    {
      "cell_type": "markdown",
      "source": [
        "# STEP 10: INTERPRETATION AND CONCLUSIONS"
      ],
      "metadata": {
        "id": "mVoKQNGNxTbh"
      }
    },
    {
      "cell_type": "code",
      "source": [
        "print(\"\\n🎯 Model Performance Analysis:\")\n",
        "print(f\"Training MAE: {avg_loss:.4f}\")\n",
        "print(f\"Test MAE: {avg_test_loss:.4f}\")\n",
        "\n",
        "if avg_test_loss < 0.3:\n",
        "    print(\"🌟 Excellent performance! Model generalizes well.\")\n",
        "elif avg_test_loss < 0.4:\n",
        "    print(\"👍 Good performance! Model is learning effectively.\")\n",
        "elif avg_test_loss < 0.5:\n",
        "    print(\"⚠️  Moderate performance. Consider tuning hyperparameters.\")\n",
        "else:\n",
        "    print(\"❌ Poor performance. Model may need more training or different architecture.\")\n",
        "\n",
        "print(\"\\n💡 Key Insights:\")\n",
        "print(\"• RBM successfully learned latent factors from user-movie interactions\")\n",
        "print(\"• Binary conversion simplified the learning problem\")\n",
        "print(\"• Contrastive Divergence enabled efficient training\")\n",
        "print(\"• Model can handle missing data (unrated movies)\")\n",
        "\n",
        "print(\"\\n🚀 Potential Improvements:\")\n",
        "print(\"• Try different numbers of hidden units\")\n",
        "print(\"• Experiment with different learning rates\")\n",
        "print(\"• Use different rating conversion thresholds\")\n",
        "print(\"• Implement early stopping based on validation loss\")\n",
        "print(\"• Add regularization to prevent overfitting\")"
      ],
      "metadata": {
        "colab": {
          "base_uri": "https://localhost:8080/"
        },
        "id": "3KzERPL0xUzw",
        "outputId": "edf0977e-e876-4d74-f091-738a4fc61964"
      },
      "execution_count": 15,
      "outputs": [
        {
          "output_type": "stream",
          "name": "stdout",
          "text": [
            "\n",
            "🎯 Model Performance Analysis:\n",
            "Training MAE: 0.2470\n",
            "Test MAE: 0.2544\n",
            "🌟 Excellent performance! Model generalizes well.\n",
            "\n",
            "💡 Key Insights:\n",
            "• RBM successfully learned latent factors from user-movie interactions\n",
            "• Binary conversion simplified the learning problem\n",
            "• Contrastive Divergence enabled efficient training\n",
            "• Model can handle missing data (unrated movies)\n",
            "\n",
            "🚀 Potential Improvements:\n",
            "• Try different numbers of hidden units\n",
            "• Experiment with different learning rates\n",
            "• Use different rating conversion thresholds\n",
            "• Implement early stopping based on validation loss\n",
            "• Add regularization to prevent overfitting\n"
          ]
        }
      ]
    }
  ]
}
